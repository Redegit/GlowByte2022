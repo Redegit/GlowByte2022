{
 "cells": [
  {
   "cell_type": "code",
   "execution_count": 1,
   "metadata": {
    "collapsed": true
   },
   "outputs": [],
   "source": [
    "import psycopg2\n",
    "from psycopg2 import Error\n",
    "import datetime"
   ]
  },
  {
   "cell_type": "code",
   "execution_count": 2,
   "outputs": [
    {
     "name": "stdout",
     "output_type": "stream",
     "text": [
      "Соединение установлено\n",
      "Соединение с PostgreSQL закрыто 20:50:59.751057\n"
     ]
    }
   ],
   "source": [
    "try:\n",
    "    # Подключаемся к существующей базе данных\n",
    "    connection = psycopg2.connect(user=\"dwh_voronezh\",\n",
    "                                  password=\"dwh_voronezh_qhi8P4t4\",\n",
    "                                  host=\"de-edu-db.chronosavant.ru\",\n",
    "                                  port=\"5432\",\n",
    "                                  database=\"dwh\"\n",
    "                                  )\n",
    "\n",
    "    print(\"Соединение установлено\")\n",
    "\n",
    "    # Запускаем скрипт создания таблиц\n",
    "    cursor = connection.cursor()\n",
    "    cursor.execute(open(\"init.sql\", \"r\").read())\n",
    "\n",
    "except (Exception, Error) as error:\n",
    "    print(\"Ошибка при работе с PostgreSQL\", error)\n",
    "finally:\n",
    "    if connection:\n",
    "        connection.commit()\n",
    "        cursor.close()\n",
    "        connection.close()\n",
    "        print(f\"Соединение с PostgreSQL закрыто {datetime.datetime.now().time()}\")\n"
   ],
   "metadata": {
    "collapsed": false,
    "pycharm": {
     "name": "#%%\n"
    }
   }
  }
 ],
 "metadata": {
  "kernelspec": {
   "name": "pycharm-42bbdc83",
   "language": "python",
   "display_name": "PyCharm (GlowByte)"
  },
  "language_info": {
   "codemirror_mode": {
    "name": "ipython",
    "version": 2
   },
   "file_extension": ".py",
   "mimetype": "text/x-python",
   "name": "python",
   "nbconvert_exporter": "python",
   "pygments_lexer": "ipython2",
   "version": "2.7.6"
  }
 },
 "nbformat": 4,
 "nbformat_minor": 0
}